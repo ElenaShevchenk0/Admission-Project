{
 "cells": [
  {
   "cell_type": "code",
   "execution_count": 1,
   "metadata": {},
   "outputs": [],
   "source": [
    "import pandas as pd\n",
    "import numpy as np\n",
    "import statsmodels.api as sm\n",
    "import statsmodels.formula.api as smf"
   ]
  },
  {
   "cell_type": "code",
   "execution_count": 8,
   "metadata": {},
   "outputs": [
    {
     "data": {
      "text/html": [
       "<div>\n",
       "<style scoped>\n",
       "    .dataframe tbody tr th:only-of-type {\n",
       "        vertical-align: middle;\n",
       "    }\n",
       "\n",
       "    .dataframe tbody tr th {\n",
       "        vertical-align: top;\n",
       "    }\n",
       "\n",
       "    .dataframe thead th {\n",
       "        text-align: right;\n",
       "    }\n",
       "</style>\n",
       "<table border=\"1\" class=\"dataframe\">\n",
       "  <thead>\n",
       "    <tr style=\"text-align: right;\">\n",
       "      <th></th>\n",
       "      <th>year</th>\n",
       "      <th>accept_rate</th>\n",
       "      <th>reject_rate</th>\n",
       "      <th>applications</th>\n",
       "      <th>accepted</th>\n",
       "      <th>rejected</th>\n",
       "      <th>gpa</th>\n",
       "      <th>gre_math</th>\n",
       "      <th>gre_quant</th>\n",
       "      <th>gre_verb</th>\n",
       "      <th>gre_awa</th>\n",
       "      <th>type</th>\n",
       "      <th>research</th>\n",
       "      <th>sex</th>\n",
       "      <th>major</th>\n",
       "    </tr>\n",
       "  </thead>\n",
       "  <tbody>\n",
       "    <tr>\n",
       "      <td>0</td>\n",
       "      <td>2010</td>\n",
       "      <td>0.181818</td>\n",
       "      <td>0.818182</td>\n",
       "      <td>11</td>\n",
       "      <td>2</td>\n",
       "      <td>9</td>\n",
       "      <td>0.9650</td>\n",
       "      <td>1</td>\n",
       "      <td>94</td>\n",
       "      <td>95</td>\n",
       "      <td>41</td>\n",
       "      <td>1</td>\n",
       "      <td>1</td>\n",
       "      <td>0</td>\n",
       "      <td>1</td>\n",
       "    </tr>\n",
       "    <tr>\n",
       "      <td>1</td>\n",
       "      <td>2010</td>\n",
       "      <td>0.750000</td>\n",
       "      <td>0.250000</td>\n",
       "      <td>4</td>\n",
       "      <td>3</td>\n",
       "      <td>1</td>\n",
       "      <td>0.9725</td>\n",
       "      <td>1</td>\n",
       "      <td>94</td>\n",
       "      <td>97</td>\n",
       "      <td>41</td>\n",
       "      <td>1</td>\n",
       "      <td>1</td>\n",
       "      <td>0</td>\n",
       "      <td>1</td>\n",
       "    </tr>\n",
       "    <tr>\n",
       "      <td>2</td>\n",
       "      <td>2010</td>\n",
       "      <td>0.200000</td>\n",
       "      <td>0.800000</td>\n",
       "      <td>10</td>\n",
       "      <td>2</td>\n",
       "      <td>8</td>\n",
       "      <td>0.9925</td>\n",
       "      <td>1</td>\n",
       "      <td>94</td>\n",
       "      <td>96</td>\n",
       "      <td>63</td>\n",
       "      <td>1</td>\n",
       "      <td>1</td>\n",
       "      <td>0</td>\n",
       "      <td>1</td>\n",
       "    </tr>\n",
       "    <tr>\n",
       "      <td>3</td>\n",
       "      <td>2010</td>\n",
       "      <td>0.444444</td>\n",
       "      <td>0.555556</td>\n",
       "      <td>9</td>\n",
       "      <td>4</td>\n",
       "      <td>5</td>\n",
       "      <td>1.0000</td>\n",
       "      <td>1</td>\n",
       "      <td>94</td>\n",
       "      <td>88</td>\n",
       "      <td>23</td>\n",
       "      <td>0</td>\n",
       "      <td>1</td>\n",
       "      <td>0</td>\n",
       "      <td>2</td>\n",
       "    </tr>\n",
       "    <tr>\n",
       "      <td>4</td>\n",
       "      <td>2010</td>\n",
       "      <td>0.714286</td>\n",
       "      <td>0.285714</td>\n",
       "      <td>7</td>\n",
       "      <td>5</td>\n",
       "      <td>2</td>\n",
       "      <td>0.9300</td>\n",
       "      <td>1</td>\n",
       "      <td>94</td>\n",
       "      <td>77</td>\n",
       "      <td>81</td>\n",
       "      <td>1</td>\n",
       "      <td>0</td>\n",
       "      <td>0</td>\n",
       "      <td>1</td>\n",
       "    </tr>\n",
       "  </tbody>\n",
       "</table>\n",
       "</div>"
      ],
      "text/plain": [
       "   year  accept_rate  reject_rate  applications  accepted  rejected     gpa  \\\n",
       "0  2010     0.181818     0.818182            11         2         9  0.9650   \n",
       "1  2010     0.750000     0.250000             4         3         1  0.9725   \n",
       "2  2010     0.200000     0.800000            10         2         8  0.9925   \n",
       "3  2010     0.444444     0.555556             9         4         5  1.0000   \n",
       "4  2010     0.714286     0.285714             7         5         2  0.9300   \n",
       "\n",
       "  gre_math  gre_quant  gre_verb  gre_awa type research sex major  \n",
       "0        1         94        95       41    1        1   0     1  \n",
       "1        1         94        97       41    1        1   0     1  \n",
       "2        1         94        96       63    1        1   0     1  \n",
       "3        1         94        88       23    0        1   0     2  \n",
       "4        1         94        77       81    1        0   0     1  "
      ]
     },
     "execution_count": 8,
     "metadata": {},
     "output_type": "execute_result"
    }
   ],
   "source": [
    "# data preparation\n",
    "\n",
    "data = pd.read_csv(\"~/Desktop/flashcard_/r_files/Admission_math\")\n",
    "data = data.drop([\"Unnamed: 0\"], axis=1)\n",
    "data['gre_math'] = data['gre_math'].astype('category')\n",
    "data['type'] = data['type'].astype('category')\n",
    "data['research'] = data['research'].astype('category')\n",
    "data['sex'] = data['sex'].astype('category')\n",
    "data['major'] = data['major'].astype('category')\n",
    "data['year'] = data['year'].astype('category')\n",
    "data.head()"
   ]
  },
  {
   "cell_type": "markdown",
   "metadata": {},
   "source": [
    "# EDA"
   ]
  },
  {
   "cell_type": "code",
   "execution_count": 9,
   "metadata": {},
   "outputs": [
    {
     "name": "stdout",
     "output_type": "stream",
     "text": [
      "       accept_rate  reject_rate  applications    accepted    rejected  \\\n",
      "count   536.000000   536.000000    536.000000  536.000000  536.000000   \n",
      "mean      0.496999     0.503001      8.026119    3.725746    4.300373   \n",
      "std       0.267163     0.267163      4.003184    2.353238    3.202406   \n",
      "min       0.000000     0.000000      1.000000    0.000000    0.000000   \n",
      "25%       0.285714     0.333333      5.000000    2.000000    2.000000   \n",
      "50%       0.500000     0.500000      8.000000    3.000000    4.000000   \n",
      "75%       0.666667     0.714286     11.000000    5.000000    6.000000   \n",
      "max       1.000000     1.000000     21.000000   13.000000   16.000000   \n",
      "\n",
      "              gpa   gre_quant    gre_verb     gre_awa  \n",
      "count  536.000000  536.000000  536.000000  536.000000  \n",
      "mean     0.936122   90.738806   79.686567   62.520522  \n",
      "std      0.065301    8.270817   18.918781   25.269603  \n",
      "min      0.500000   47.000000    8.000000    3.000000  \n",
      "25%      0.902875   88.000000   69.000000   47.000000  \n",
      "50%      0.957500   94.000000   87.000000   60.000000  \n",
      "75%      0.982500   96.000000   94.000000   82.000000  \n",
      "max      1.000000   99.000000   99.000000   99.000000  \n",
      "gre_math\n",
      "0    105\n",
      "1    431\n",
      "Name: gre_math, dtype: int64\n",
      "      count      mean       std       min       25%       50%       75%   max\n",
      "year                                                                         \n",
      "2010   14.0  0.396377  0.225738  0.000000  0.221429  0.414286  0.575000  0.75\n",
      "2011   26.0  0.484576  0.243542  0.153846  0.255682  0.500000  0.618750  1.00\n",
      "2012   53.0  0.515237  0.303971  0.000000  0.307692  0.500000  0.750000  1.00\n",
      "2013   66.0  0.466729  0.289365  0.000000  0.250000  0.477273  0.614583  1.00\n",
      "2014   42.0  0.541065  0.270600  0.000000  0.333333  0.527778  0.724026  1.00\n",
      "2015   39.0  0.509657  0.250030  0.000000  0.316667  0.476190  0.714286  1.00\n",
      "2016   51.0  0.472295  0.239595  0.000000  0.333333  0.428571  0.625000  1.00\n",
      "2017   68.0  0.485390  0.237285  0.100000  0.285714  0.472222  0.606250  1.00\n",
      "2018   72.0  0.550716  0.235009  0.125000  0.375000  0.500000  0.692308  1.00\n",
      "2019  105.0  0.483667  0.298612  0.000000  0.272727  0.428571  0.750000  1.00\n",
      "       count      mean       std  min       25%       50%       75%  max\n",
      "major                                                                   \n",
      "1      457.0  0.500402  0.266463  0.0  0.285714  0.500000  0.666667  1.0\n",
      "2       43.0  0.492355  0.266732  0.0  0.333333  0.428571  0.654762  1.0\n",
      "3       36.0  0.459351  0.281008  0.0  0.243056  0.408333  0.666667  1.0\n"
     ]
    }
   ],
   "source": [
    "print(data.describe())\n",
    "data['major'].value_counts\n",
    "data[['sex','gre_quant']].groupby('sex').mean()\n",
    "data[['sex','gre_verb']].groupby('sex').mean()\n",
    "data[['sex','gre_awa']].groupby('sex').mean()\n",
    "data.groupby('sex')['sex'].count()\n",
    "print(data.groupby('gre_math')['gre_math'].count())\n",
    "print(data.groupby('year')['accept_rate'].describe())\n",
    "print(data.groupby('major')['accept_rate'].describe())"
   ]
  },
  {
   "cell_type": "code",
   "execution_count": 10,
   "metadata": {
    "scrolled": true
   },
   "outputs": [
    {
     "data": {
      "text/plain": [
       "<matplotlib.axes._subplots.AxesSubplot at 0x1c20138c50>"
      ]
     },
     "execution_count": 10,
     "metadata": {},
     "output_type": "execute_result"
    }
   ],
   "source": [
    "data.plot.scatter(x='gre_quant', y='accept_rate')\n",
    "data.plot.scatter(x='gre_awa', y='accept_rate')\n",
    "data.plot.scatter(x='gre_verb', y='accept_rate')\n",
    "data.plot.scatter(x='applications',y='accepted')\n",
    "data.plot.scatter(x='applications',y='accept_rate')"
   ]
  },
  {
   "cell_type": "code",
   "execution_count": 87,
   "metadata": {},
   "outputs": [
    {
     "data": {
      "text/plain": [
       "<matplotlib.axes._subplots.AxesSubplot at 0x1c2518c610>"
      ]
     },
     "execution_count": 87,
     "metadata": {},
     "output_type": "execute_result"
    },
    {
     "data": {
      "image/png": "[encoded data removed]",
      "text/plain": [
       "<Figure size 432x288 with 1 Axes>"
      ]
     },
     "metadata": {
      "needs_background": "light"
     },
     "output_type": "display_data"
    },
    {
     "data": {
      "image/png": "[encoded data removed]",
      "text/plain": [
       "<Figure size 432x288 with 1 Axes>"
      ]
     },
     "metadata": {
      "needs_background": "light"
     },
     "output_type": "display_data"
    },
    {
     "data": {
      "image/png": "[encoded data removed]",
      "text/plain": [
       "<Figure size 432x288 with 1 Axes>"
      ]
     },
     "metadata": {
      "needs_background": "light"
     },
     "output_type": "display_data"
    },
    {
     "data": {
      "image/png": "[encoded data removed]",
      "text/plain": [
       "<Figure size 432x288 with 1 Axes>"
      ]
     },
     "metadata": {
      "needs_background": "light"
     },
     "output_type": "display_data"
    }
   ],
   "source": [
    "data.boxplot(column='accepted', by='sex', grid=False)\n",
    "data.boxplot(column='accepted', by='type', grid=False)\n",
    "data.boxplot(column='accepted', by='research', grid=False)\n",
    "data.boxplot(column='accepted', by='major', grid=False)"
   ]
  },
  {
   "cell_type": "markdown",
   "metadata": {},
   "source": [
    "### gre_math detailed EDA"
   ]
  },
  {
   "cell_type": "code",
   "execution_count": 11,
   "metadata": {},
   "outputs": [
    {
     "data": {
      "text/html": [
       "<div>\n",
       "<style scoped>\n",
       "    .dataframe tbody tr th:only-of-type {\n",
       "        vertical-align: middle;\n",
       "    }\n",
       "\n",
       "    .dataframe tbody tr th {\n",
       "        vertical-align: top;\n",
       "    }\n",
       "\n",
       "    .dataframe thead tr th {\n",
       "        text-align: left;\n",
       "    }\n",
       "\n",
       "    .dataframe thead tr:last-of-type th {\n",
       "        text-align: right;\n",
       "    }\n",
       "</style>\n",
       "<table border=\"1\" class=\"dataframe\">\n",
       "  <thead>\n",
       "    <tr>\n",
       "      <th></th>\n",
       "      <th colspan=\"8\" halign=\"left\">accepted</th>\n",
       "    </tr>\n",
       "    <tr>\n",
       "      <th></th>\n",
       "      <th>count</th>\n",
       "      <th>mean</th>\n",
       "      <th>std</th>\n",
       "      <th>min</th>\n",
       "      <th>25%</th>\n",
       "      <th>50%</th>\n",
       "      <th>75%</th>\n",
       "      <th>max</th>\n",
       "    </tr>\n",
       "    <tr>\n",
       "      <th>gre_math</th>\n",
       "      <th></th>\n",
       "      <th></th>\n",
       "      <th></th>\n",
       "      <th></th>\n",
       "      <th></th>\n",
       "      <th></th>\n",
       "      <th></th>\n",
       "      <th></th>\n",
       "    </tr>\n",
       "  </thead>\n",
       "  <tbody>\n",
       "    <tr>\n",
       "      <td>0</td>\n",
       "      <td>105.0</td>\n",
       "      <td>3.676190</td>\n",
       "      <td>2.399901</td>\n",
       "      <td>0.0</td>\n",
       "      <td>2.0</td>\n",
       "      <td>3.0</td>\n",
       "      <td>5.0</td>\n",
       "      <td>13.0</td>\n",
       "    </tr>\n",
       "    <tr>\n",
       "      <td>1</td>\n",
       "      <td>431.0</td>\n",
       "      <td>3.737819</td>\n",
       "      <td>2.344401</td>\n",
       "      <td>0.0</td>\n",
       "      <td>2.0</td>\n",
       "      <td>3.0</td>\n",
       "      <td>5.0</td>\n",
       "      <td>11.0</td>\n",
       "    </tr>\n",
       "  </tbody>\n",
       "</table>\n",
       "</div>"
      ],
      "text/plain": [
       "         accepted                                              \n",
       "            count      mean       std  min  25%  50%  75%   max\n",
       "gre_math                                                       \n",
       "0           105.0  3.676190  2.399901  0.0  2.0  3.0  5.0  13.0\n",
       "1           431.0  3.737819  2.344401  0.0  2.0  3.0  5.0  11.0"
      ]
     },
     "execution_count": 11,
     "metadata": {},
     "output_type": "execute_result"
    },
    {
     "data": {
      "image/png": "[encoded data removed]",
      "text/plain": [
       "<Figure size 432x288 with 1 Axes>"
      ]
     },
     "metadata": {
      "needs_background": "light"
     },
     "output_type": "display_data"
    },
    {
     "data": {
      "image/png": "[encoded data removed]",
      "text/plain": [
       "<Figure size 432x288 with 1 Axes>"
      ]
     },
     "metadata": {
      "needs_background": "light"
     },
     "output_type": "display_data"
    },
    {
     "data": {
      "image/png": "[encoded data removed]",
      "text/plain": [
       "<Figure size 432x288 with 1 Axes>"
      ]
     },
     "metadata": {
      "needs_background": "light"
     },
     "output_type": "display_data"
    }
   ],
   "source": [
    "data.boxplot(column='accept_rate', by='gre_math', grid=False)\n",
    "data.boxplot(column='accepted', by='gre_math', grid=False)\n",
    "data.boxplot(column='applications', by='gre_math', grid=False)\n",
    "data[['gre_math','applications']].groupby('gre_math').describe()\n",
    "data[['gre_math','accepted']].groupby('gre_math').describe()"
   ]
  },
  {
   "cell_type": "markdown",
   "metadata": {},
   "source": [
    "# Logistic Regression"
   ]
  },
  {
   "cell_type": "code",
   "execution_count": 12,
   "metadata": {},
   "outputs": [
    {
     "name": "stdout",
     "output_type": "stream",
     "text": [
      "                 Generalized Linear Model Regression Results                  \n",
      "==============================================================================\n",
      "Dep. Variable:            accept_rate   No. Observations:                  536\n",
      "Model:                            GLM   Df Residuals:                      525\n",
      "Model Family:                Binomial   Df Model:                           10\n",
      "Link Function:                  logit   Scale:                          1.0000\n",
      "Method:                          IRLS   Log-Likelihood:                -2084.4\n",
      "Date:                Wed, 22 Jul 2020   Deviance:                       933.16\n",
      "Time:                        13:21:48   Pearson chi2:                     809.\n",
      "No. Iterations:                     4                                         \n",
      "Covariance Type:            nonrobust                                         \n",
      "=================================================================================\n",
      "                    coef    std err          z      P>|z|      [0.025      0.975]\n",
      "---------------------------------------------------------------------------------\n",
      "Intercept        -3.8467      0.577     -6.663      0.000      -4.978      -2.715\n",
      "gre_math[T.1]    -0.3607      0.089     -4.044      0.000      -0.536      -0.186\n",
      "type[T.1]         0.2745      0.074      3.697      0.000       0.129       0.420\n",
      "research[T.1]    -0.0011      0.090     -0.013      0.990      -0.177       0.174\n",
      "sex[T.1]          0.4503      0.079      5.686      0.000       0.295       0.606\n",
      "major[T.2]        0.0876      0.113      0.775      0.439      -0.134       0.309\n",
      "major[T.3]       -0.1337      0.130     -1.026      0.305      -0.389       0.122\n",
      "gpa               2.8548      0.521      5.476      0.000       1.833       3.876\n",
      "gre_quant         0.0094      0.004      2.189      0.029       0.001       0.018\n",
      "gre_verb          0.0005      0.002      0.247      0.805      -0.003       0.004\n",
      "gre_awa           0.0025      0.001      1.662      0.097      -0.000       0.005\n",
      "=================================================================================\n",
      "MSE: 0.06321643263464875\n"
     ]
    },
    {
     "data": {
      "image/png": "[encoded data removed]",
      "text/plain": [
       "<Figure size 432x288 with 1 Axes>"
      ]
     },
     "metadata": {
      "needs_background": "light"
     },
     "output_type": "display_data"
    }
   ],
   "source": [
    "# create model\n",
    "\n",
    "form = 'accept_rate ~ gpa + gre_math + gre_quant + gre_verb + gre_awa + type + research + sex + major'\n",
    "log_model = smf.glm(formula=form, data=data, family=sm.families.Binomial(), var_weights=data['applications'])\n",
    "res = log_model.fit()\n",
    "print(res.summary())\n",
    "\n",
    "# prediction\n",
    "\n",
    "pred_log = res.predict(data)\n",
    "\n",
    "# plot results and compute MSE\n",
    "\n",
    "from matplotlib import pyplot as plt\n",
    "plt.plot(data['accept_rate'],pred_log, 'o')\n",
    "MSE = sm.tools.eval_measures.mse(data['accept_rate'], pred_log)\n",
    "print('MSE:', MSE)"
   ]
  },
  {
   "cell_type": "markdown",
   "metadata": {},
   "source": [
    "# Logistic regression for training set\n"
   ]
  },
  {
   "cell_type": "markdown",
   "metadata": {},
   "source": [
    "### Wrapper for statsmodels"
   ]
  },
  {
   "cell_type": "code",
   "execution_count": 13,
   "metadata": {},
   "outputs": [],
   "source": [
    "from sklearn.base import BaseEstimator, RegressorMixin\n",
    "\n",
    "class SMFWrapper(BaseEstimator, RegressorMixin):\n",
    "    \"\"\"sklearn wrapper for statsmodels\"\"\"\n",
    "    def __init__(self, model_class, formula, family, weights):\n",
    "        self.model_class = model_class\n",
    "        self.formula = formula\n",
    "        self.family = family\n",
    "        self.weights = weights\n",
    "        self.model = None\n",
    "        self.result = None\n",
    "    def fit(self, X, y):\n",
    "        self.model = smf.glm(self.formula, data, family=self.family, var_weights=self.weights)\n",
    "        self.res = self.model.fit()\n",
    "    def predict(self, X):\n",
    "        return self.res.predict(X)\n",
    "\n",
    "# instance for glm\n",
    "\n",
    "wrapped = SMFWrapper(model_class=smf.glm, formula=form, family=sm.families.Binomial(), weights=data['applications'])"
   ]
  },
  {
   "cell_type": "markdown",
   "metadata": {},
   "source": [
    "### Split data into train and test sets "
   ]
  },
  {
   "cell_type": "code",
   "execution_count": 102,
   "metadata": {},
   "outputs": [
    {
     "name": "stdout",
     "output_type": "stream",
     "text": [
      "                 Generalized Linear Model Regression Results                  \n",
      "==============================================================================\n",
      "Dep. Variable:            accept_rate   No. Observations:                  429\n",
      "Model:                            GLM   Df Residuals:                      418\n",
      "Model Family:                Binomial   Df Model:                           10\n",
      "Link Function:                  logit   Scale:                          1.0000\n",
      "Method:                          IRLS   Log-Likelihood:                -1648.7\n",
      "Date:                Wed, 22 Jul 2020   Deviance:                       722.85\n",
      "Time:                        18:40:24   Pearson chi2:                     626.\n",
      "No. Iterations:                     4                                         \n",
      "Covariance Type:            nonrobust                                         \n",
      "=================================================================================\n",
      "                    coef    std err          z      P>|z|      [0.025      0.975]\n",
      "---------------------------------------------------------------------------------\n",
      "Intercept        -4.0065      0.655     -6.118      0.000      -5.290      -2.723\n",
      "gre_math[T.1]    -0.4074      0.099     -4.131      0.000      -0.601      -0.214\n",
      "type[T.1]         0.2488      0.085      2.937      0.003       0.083       0.415\n",
      "research[T.1]    -0.0472      0.099     -0.476      0.634      -0.242       0.147\n",
      "sex[T.1]          0.3832      0.088      4.343      0.000       0.210       0.556\n",
      "major[T.2]        0.0116      0.126      0.092      0.927      -0.234       0.258\n",
      "major[T.3]       -0.2461      0.153     -1.610      0.107      -0.546       0.054\n",
      "gpa               2.9362      0.601      4.885      0.000       1.758       4.114\n",
      "gre_quant         0.0103      0.005      2.133      0.033       0.001       0.020\n",
      "gre_verb          0.0009      0.002      0.447      0.655      -0.003       0.005\n",
      "gre_awa           0.0037      0.002      2.224      0.026       0.000       0.007\n",
      "=================================================================================\n",
      "MSE: 0.07503309195379877\n",
      "0    0.445919\n",
      "dtype: float64\n"
     ]
    },
    {
     "data": {
      "image/png": "[encoded data removed]",
      "text/plain": [
       "<Figure size 432x288 with 1 Axes>"
      ]
     },
     "metadata": {
      "needs_background": "light"
     },
     "output_type": "display_data"
    }
   ],
   "source": [
    "data_train = data.sample(frac=0.8, random_state=12)\n",
    "data_test = data[~data.index.isin(data_train.index)]\n",
    "\n",
    "# create model\n",
    "\n",
    "form = 'accept_rate ~ gpa + gre_math + gre_quant + gre_verb + gre_awa + type + research + sex + major'\n",
    "log_model1 = smf.glm(formula=form, data=data_train, family=sm.families.Binomial(), \\\n",
    "                     var_weights=data_train['applications'])\n",
    "res1 = log_model1.fit()\n",
    "print(res1.summary())\n",
    "\n",
    "# prediction\n",
    "\n",
    "pred = res1.predict(data_test)\n",
    "\n",
    "# plot the results and compute MSE\n",
    "\n",
    "from matplotlib import pyplot as plt\n",
    "plt.plot(data_test['accept_rate'],pred, 'o')\n",
    "MSE = sm.tools.eval_measures.mse(data_test['accept_rate'],pred)\n",
    "print('MSE:', MSE)\n",
    "\n",
    "single3 = {'gpa': [0.8675], 'gre_math': [0], 'gre_quant': [78], 'gre_verb': [27], 'gre_awa': [18], 'type': [0], \n",
    "          'research': [1], 'sex': [1], 'major': [2]}\n",
    "single3_df = pd.DataFrame(single3)\n",
    "type(single3_df)\n",
    "\n",
    "single3_pred = res1.predict(single3_df)\n",
    "print(single3_pred)"
   ]
  },
  {
   "cell_type": "markdown",
   "metadata": {},
   "source": [
    "# Logistic model with significant predictors"
   ]
  },
  {
   "cell_type": "code",
   "execution_count": 104,
   "metadata": {},
   "outputs": [
    {
     "name": "stdout",
     "output_type": "stream",
     "text": [
      "                 Generalized Linear Model Regression Results                  \n",
      "==============================================================================\n",
      "Dep. Variable:            accept_rate   No. Observations:                  429\n",
      "Model:                            GLM   Df Residuals:                      422\n",
      "Model Family:                Binomial   Df Model:                            6\n",
      "Link Function:                  logit   Scale:                          1.0000\n",
      "Method:                          IRLS   Log-Likelihood:                -1650.3\n",
      "Date:                Wed, 22 Jul 2020   Deviance:                       725.92\n",
      "Time:                        18:43:07   Pearson chi2:                     628.\n",
      "No. Iterations:                     4                                         \n",
      "Covariance Type:            nonrobust                                         \n",
      "=================================================================================\n",
      "                    coef    std err          z      P>|z|      [0.025      0.975]\n",
      "---------------------------------------------------------------------------------\n",
      "Intercept        -4.1217      0.648     -6.364      0.000      -5.391      -2.852\n",
      "gre_math[T.1]    -0.3974      0.098     -4.060      0.000      -0.589      -0.206\n",
      "type[T.1]         0.2669      0.083      3.212      0.001       0.104       0.430\n",
      "sex[T.1]          0.3908      0.088      4.447      0.000       0.219       0.563\n",
      "gpa               3.0134      0.588      5.121      0.000       1.860       4.167\n",
      "gre_quant         0.0106      0.005      2.213      0.027       0.001       0.020\n",
      "gre_awa           0.0040      0.002      2.568      0.010       0.001       0.007\n",
      "=================================================================================\n",
      "MSE: 0.07422096981549416\n",
      "0    0.444901\n",
      "dtype: float64\n"
     ]
    },
    {
     "data": {
      "image/png": "[encoded data removed]",
      "text/plain": [
       "<Figure size 432x288 with 1 Axes>"
      ]
     },
     "metadata": {
      "needs_background": "light"
     },
     "output_type": "display_data"
    }
   ],
   "source": [
    "# split into training and test sets\n",
    "\n",
    "data_train = data.sample(frac=0.8, random_state=12)\n",
    "data_test = data[~data.index.isin(data_train.index)]\n",
    "\n",
    "# create model\n",
    "\n",
    "form_reduced = 'accept_rate ~ gpa + gre_math + gre_quant + gre_awa + type + sex'\n",
    "log_model_reduced = smf.glm(formula=form_reduced, data=data_train, family=sm.families.Binomial(), \\\n",
    "                     var_weights=data_train['applications'])\n",
    "res2 = log_model_reduced.fit()\n",
    "print(res2.summary())\n",
    "\n",
    "# prediction\n",
    "\n",
    "pred_reduced = res2.predict(data_test)\n",
    "\n",
    "# plot the results and compute MSE\n",
    "\n",
    "from matplotlib import pyplot as plt\n",
    "plt.plot(data_test['accept_rate'],pred_reduced, 'o')\n",
    "MSE = sm.tools.eval_measures.mse(data_test['accept_rate'],pred_reduced)\n",
    "print('MSE:', MSE)\n",
    "\n",
    "single4 = {'gpa': [0.8675], 'gre_math': [0], 'gre_quant': [78], 'gre_verb': [27], 'gre_awa': [18], 'type': [0], \n",
    "          'research': [1], 'sex': [1], 'major': [2]}\n",
    "single4_df = pd.DataFrame(single4)\n",
    "single4_pred = res2.predict(single4_df)\n",
    "print(single4_pred)"
   ]
  },
  {
   "cell_type": "markdown",
   "metadata": {},
   "source": []
  },
  {
   "cell_type": "markdown",
   "metadata": {},
   "source": [
    "# Analysis with gre_math as continuous variable"
   ]
  },
  {
   "cell_type": "markdown",
   "metadata": {},
   "source": [
    "## import data"
   ]
  },
  {
   "cell_type": "code",
   "execution_count": 5,
   "metadata": {},
   "outputs": [
    {
     "data": {
      "text/html": [
       "<div>\n",
       "<style scoped>\n",
       "    .dataframe tbody tr th:only-of-type {\n",
       "        vertical-align: middle;\n",
       "    }\n",
       "\n",
       "    .dataframe tbody tr th {\n",
       "        vertical-align: top;\n",
       "    }\n",
       "\n",
       "    .dataframe thead th {\n",
       "        text-align: right;\n",
       "    }\n",
       "</style>\n",
       "<table border=\"1\" class=\"dataframe\">\n",
       "  <thead>\n",
       "    <tr style=\"text-align: right;\">\n",
       "      <th></th>\n",
       "      <th>year</th>\n",
       "      <th>accept_rate</th>\n",
       "      <th>reject_rate</th>\n",
       "      <th>applications</th>\n",
       "      <th>accepted</th>\n",
       "      <th>rejected</th>\n",
       "      <th>gpa</th>\n",
       "      <th>gre_math</th>\n",
       "      <th>gre_quant</th>\n",
       "      <th>gre_verb</th>\n",
       "      <th>gre_awa</th>\n",
       "      <th>type</th>\n",
       "      <th>research</th>\n",
       "      <th>sex</th>\n",
       "      <th>major</th>\n",
       "    </tr>\n",
       "  </thead>\n",
       "  <tbody>\n",
       "    <tr>\n",
       "      <td>0</td>\n",
       "      <td>2010</td>\n",
       "      <td>0.181818</td>\n",
       "      <td>0.818182</td>\n",
       "      <td>11</td>\n",
       "      <td>2</td>\n",
       "      <td>9</td>\n",
       "      <td>0.9650</td>\n",
       "      <td>63</td>\n",
       "      <td>94</td>\n",
       "      <td>95</td>\n",
       "      <td>41</td>\n",
       "      <td>1</td>\n",
       "      <td>1</td>\n",
       "      <td>0</td>\n",
       "      <td>1</td>\n",
       "    </tr>\n",
       "    <tr>\n",
       "      <td>1</td>\n",
       "      <td>2010</td>\n",
       "      <td>0.750000</td>\n",
       "      <td>0.250000</td>\n",
       "      <td>4</td>\n",
       "      <td>3</td>\n",
       "      <td>1</td>\n",
       "      <td>0.9725</td>\n",
       "      <td>87</td>\n",
       "      <td>94</td>\n",
       "      <td>97</td>\n",
       "      <td>41</td>\n",
       "      <td>1</td>\n",
       "      <td>1</td>\n",
       "      <td>0</td>\n",
       "      <td>1</td>\n",
       "    </tr>\n",
       "    <tr>\n",
       "      <td>2</td>\n",
       "      <td>2010</td>\n",
       "      <td>0.200000</td>\n",
       "      <td>0.800000</td>\n",
       "      <td>10</td>\n",
       "      <td>2</td>\n",
       "      <td>8</td>\n",
       "      <td>0.9925</td>\n",
       "      <td>74</td>\n",
       "      <td>94</td>\n",
       "      <td>96</td>\n",
       "      <td>63</td>\n",
       "      <td>1</td>\n",
       "      <td>1</td>\n",
       "      <td>0</td>\n",
       "      <td>1</td>\n",
       "    </tr>\n",
       "    <tr>\n",
       "      <td>3</td>\n",
       "      <td>2010</td>\n",
       "      <td>0.444444</td>\n",
       "      <td>0.555556</td>\n",
       "      <td>9</td>\n",
       "      <td>4</td>\n",
       "      <td>5</td>\n",
       "      <td>1.0000</td>\n",
       "      <td>88</td>\n",
       "      <td>94</td>\n",
       "      <td>88</td>\n",
       "      <td>23</td>\n",
       "      <td>0</td>\n",
       "      <td>1</td>\n",
       "      <td>0</td>\n",
       "      <td>2</td>\n",
       "    </tr>\n",
       "    <tr>\n",
       "      <td>4</td>\n",
       "      <td>2010</td>\n",
       "      <td>0.714286</td>\n",
       "      <td>0.285714</td>\n",
       "      <td>7</td>\n",
       "      <td>5</td>\n",
       "      <td>2</td>\n",
       "      <td>0.9300</td>\n",
       "      <td>70</td>\n",
       "      <td>94</td>\n",
       "      <td>77</td>\n",
       "      <td>81</td>\n",
       "      <td>1</td>\n",
       "      <td>0</td>\n",
       "      <td>0</td>\n",
       "      <td>1</td>\n",
       "    </tr>\n",
       "  </tbody>\n",
       "</table>\n",
       "</div>"
      ],
      "text/plain": [
       "   year  accept_rate  reject_rate  applications  accepted  rejected     gpa  \\\n",
       "0  2010     0.181818     0.818182            11         2         9  0.9650   \n",
       "1  2010     0.750000     0.250000             4         3         1  0.9725   \n",
       "2  2010     0.200000     0.800000            10         2         8  0.9925   \n",
       "3  2010     0.444444     0.555556             9         4         5  1.0000   \n",
       "4  2010     0.714286     0.285714             7         5         2  0.9300   \n",
       "\n",
       "   gre_math  gre_quant  gre_verb  gre_awa type research sex major  \n",
       "0        63         94        95       41    1        1   0     1  \n",
       "1        87         94        97       41    1        1   0     1  \n",
       "2        74         94        96       63    1        1   0     1  \n",
       "3        88         94        88       23    0        1   0     2  \n",
       "4        70         94        77       81    1        0   0     1  "
      ]
     },
     "execution_count": 5,
     "metadata": {},
     "output_type": "execute_result"
    }
   ],
   "source": [
    "df = pd.read_csv(\"~/Desktop/flashcard_/python files/project_admission/Admission_reduced\")\n",
    "df = df.drop([\"Unnamed: 0\"], axis=1)\n",
    "df['type'] = df['type'].astype('category')\n",
    "df['research'] = df['research'].astype('category')\n",
    "df['sex'] = df['sex'].astype('category')\n",
    "df['major'] = df['major'].astype('category')\n",
    "df['year'] = df['year'].astype('category')\n",
    "df.head()"
   ]
  },
  {
   "cell_type": "markdown",
   "metadata": {},
   "source": [
    "## Logistic regression"
   ]
  },
  {
   "cell_type": "code",
   "execution_count": 95,
   "metadata": {},
   "outputs": [
    {
     "name": "stdout",
     "output_type": "stream",
     "text": [
      "                 Generalized Linear Model Regression Results                  \n",
      "==============================================================================\n",
      "Dep. Variable:            accept_rate   No. Observations:                  345\n",
      "Model:                            GLM   Df Residuals:                      334\n",
      "Model Family:                Binomial   Df Model:                           10\n",
      "Link Function:                  logit   Scale:                          1.0000\n",
      "Method:                          IRLS   Log-Likelihood:                -1361.9\n",
      "Date:                Wed, 22 Jul 2020   Deviance:                       555.46\n",
      "Time:                        17:17:19   Pearson chi2:                     491.\n",
      "No. Iterations:                     5                                         \n",
      "Covariance Type:            nonrobust                                         \n",
      "=================================================================================\n",
      "                    coef    std err          z      P>|z|      [0.025      0.975]\n",
      "---------------------------------------------------------------------------------\n",
      "Intercept        -2.4840      0.574     -4.330      0.000      -3.608      -1.360\n",
      "type[T.1]         0.3312      0.102      3.242      0.001       0.131       0.531\n",
      "research[T.1]     0.1648      0.107      1.535      0.125      -0.046       0.375\n",
      "sex[T.1]          0.5355      0.109      4.919      0.000       0.322       0.749\n",
      "major[T.2]        0.1744      0.145      1.199      0.230      -0.111       0.459\n",
      "major[T.3]       -0.3949      0.154     -2.558      0.011      -0.697      -0.092\n",
      "gpa               0.1298      0.064      2.039      0.041       0.005       0.255\n",
      "gre_math          0.0047      0.002      2.006      0.045       0.000       0.009\n",
      "gre_quant         0.0118      0.006      1.848      0.065      -0.001       0.024\n",
      "gre_verb          0.0008      0.002      0.322      0.747      -0.004       0.006\n",
      "gre_awa           0.0035      0.002      1.812      0.070      -0.000       0.007\n",
      "=================================================================================\n",
      "MSE: 0.06581096615864833\n",
      "0    0.553709\n",
      "dtype: float64\n",
      "0    0.407434\n",
      "dtype: float64\n"
     ]
    },
    {
     "data": {
      "image/png": "[encoded data removed]",
      "text/plain": [
       "<Figure size 432x288 with 1 Axes>"
      ]
     },
     "metadata": {
      "needs_background": "light"
     },
     "output_type": "display_data"
    }
   ],
   "source": [
    "# split data into train and test\n",
    "\n",
    "df_train = df.sample(frac=0.8, random_state=12)\n",
    "df_test = df[~df.index.isin(df_train.index)]\n",
    "\n",
    "# fitting the model\n",
    "\n",
    "form = 'accept_rate ~ gpa + gre_math + gre_quant + gre_verb + gre_awa + type + research + sex + major'\n",
    "logistic_model = smf.glm(formula=form, data=df_train, family=sm.families.Binomial(), \\\n",
    "                     var_weights=df_train['applications'])\n",
    "results = logistic_model.fit()\n",
    "print(results.summary())\n",
    "\n",
    "# prediction\n",
    "\n",
    "pred_test = results.predict(df_test)\n",
    "\n",
    "# plot the results and compute MSE\n",
    "\n",
    "from matplotlib import pyplot as plt\n",
    "\n",
    "plt.plot(df_test['accept_rate'], pred_test, 'o')\n",
    "MSE = sm.tools.eval_measures.mse(df_test['accept_rate'], pred_test)\n",
    "print('MSE:', MSE)\n",
    "\n",
    "single = {'gpa': [0.8], 'gre_math': [67], 'gre_quant': [87], 'gre_verb': [53], 'gre_awa': [49], 'type': [1], \n",
    "          'research': [0], 'sex': [1], 'major': [2]}\n",
    "single_df = pd.DataFrame(single)\n",
    "\n",
    "single_pred = results.predict(single)\n",
    "print(single_pred)\n",
    "\n",
    "single1 = {'gpa': [0.8675], 'gre_math': [25], 'gre_quant': [78], 'gre_verb': [27], 'gre_awa': [18], 'type': [0], \n",
    "          'research': [1], 'sex': [1], 'major': [2]}\n",
    "single1_df = pd.DataFrame(single1)\n",
    "\n",
    "single1_pred = results.predict(single1_df)\n",
    "print(single1_pred)"
   ]
  },
  {
   "cell_type": "code",
   "execution_count": null,
   "metadata": {},
   "outputs": [],
   "source": []
  },
  {
   "cell_type": "code",
   "execution_count": null,
   "metadata": {},
   "outputs": [],
   "source": []
  }
 ],
 "metadata": {
  "kernelspec": {
   "display_name": "Python 3",
   "language": "python",
   "name": "python3"
  },
  "language_info": {
   "codemirror_mode": {
    "name": "ipython",
    "version": 3
   },
   "file_extension": ".py",
   "mimetype": "text/x-python",
   "name": "python",
   "nbconvert_exporter": "python",
   "pygments_lexer": "ipython3",
   "version": "3.7.4"
  }
 },
 "nbformat": 4,
 "nbformat_minor": 2
}
